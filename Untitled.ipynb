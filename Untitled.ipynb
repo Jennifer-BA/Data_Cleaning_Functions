{
 "cells": [
  {
   "cell_type": "markdown",
   "id": "2c1ee1bc",
   "metadata": {},
   "source": [
    "# Data Cleaning Functions"
   ]
  },
  {
   "cell_type": "code",
   "execution_count": 1,
   "id": "9eadc647",
   "metadata": {},
   "outputs": [],
   "source": [
    "# Library Imports\n",
    "import pandas as pd\n",
    "import numpy as np\n",
    "\n",
    "\n",
    "# Function Imports\n",
    "import identify_mixed_column_types as identify_mixed_cols\n",
    "import identify_drop_outliers"
   ]
  },
  {
   "cell_type": "code",
   "execution_count": 2,
   "id": "a5aeaf25",
   "metadata": {},
   "outputs": [
    {
     "data": {
      "text/html": [
       "<div>\n",
       "<style scoped>\n",
       "    .dataframe tbody tr th:only-of-type {\n",
       "        vertical-align: middle;\n",
       "    }\n",
       "\n",
       "    .dataframe tbody tr th {\n",
       "        vertical-align: top;\n",
       "    }\n",
       "\n",
       "    .dataframe thead th {\n",
       "        text-align: right;\n",
       "    }\n",
       "</style>\n",
       "<table border=\"1\" class=\"dataframe\">\n",
       "  <thead>\n",
       "    <tr style=\"text-align: right;\">\n",
       "      <th></th>\n",
       "      <th>value1</th>\n",
       "      <th>value2</th>\n",
       "      <th>value3</th>\n",
       "      <th>value4</th>\n",
       "      <th>value5</th>\n",
       "    </tr>\n",
       "  </thead>\n",
       "  <tbody>\n",
       "    <tr>\n",
       "      <th>0</th>\n",
       "      <td>1</td>\n",
       "      <td>20</td>\n",
       "      <td>A</td>\n",
       "      <td>A</td>\n",
       "      <td>2022-04-12</td>\n",
       "    </tr>\n",
       "    <tr>\n",
       "      <th>1</th>\n",
       "      <td>1</td>\n",
       "      <td>20</td>\n",
       "      <td>B</td>\n",
       "      <td>B</td>\n",
       "      <td>2022-04-12</td>\n",
       "    </tr>\n",
       "    <tr>\n",
       "      <th>2</th>\n",
       "      <td>6</td>\n",
       "      <td>21</td>\n",
       "      <td>C</td>\n",
       "      <td>C</td>\n",
       "      <td>2022-04-12</td>\n",
       "    </tr>\n",
       "    <tr>\n",
       "      <th>3</th>\n",
       "      <td>13</td>\n",
       "      <td>22</td>\n",
       "      <td>D</td>\n",
       "      <td>D</td>\n",
       "      <td>2022-04-12</td>\n",
       "    </tr>\n",
       "    <tr>\n",
       "      <th>4</th>\n",
       "      <td>13</td>\n",
       "      <td>23</td>\n",
       "      <td>E</td>\n",
       "      <td>E</td>\n",
       "      <td>2022-04-12</td>\n",
       "    </tr>\n",
       "    <tr>\n",
       "      <th>5</th>\n",
       "      <td>14</td>\n",
       "      <td>24</td>\n",
       "      <td>F</td>\n",
       "      <td>F</td>\n",
       "      <td>2022-04-12</td>\n",
       "    </tr>\n",
       "    <tr>\n",
       "      <th>6</th>\n",
       "      <td>14</td>\n",
       "      <td>24</td>\n",
       "      <td>G</td>\n",
       "      <td>G</td>\n",
       "      <td>2022-04-12</td>\n",
       "    </tr>\n",
       "    <tr>\n",
       "      <th>7</th>\n",
       "      <td>14</td>\n",
       "      <td>24</td>\n",
       "      <td>H</td>\n",
       "      <td>H</td>\n",
       "      <td>2022-04-12</td>\n",
       "    </tr>\n",
       "    <tr>\n",
       "      <th>8</th>\n",
       "      <td>15</td>\n",
       "      <td>25</td>\n",
       "      <td>I</td>\n",
       "      <td>I</td>\n",
       "      <td>2022-04-12</td>\n",
       "    </tr>\n",
       "    <tr>\n",
       "      <th>9</th>\n",
       "      <td>15</td>\n",
       "      <td>25</td>\n",
       "      <td>J</td>\n",
       "      <td>J</td>\n",
       "      <td>2022-04-12</td>\n",
       "    </tr>\n",
       "    <tr>\n",
       "      <th>10</th>\n",
       "      <td>16</td>\n",
       "      <td>26</td>\n",
       "      <td>K</td>\n",
       "      <td>K</td>\n",
       "      <td>2022-04-12</td>\n",
       "    </tr>\n",
       "    <tr>\n",
       "      <th>11</th>\n",
       "      <td>18</td>\n",
       "      <td>28</td>\n",
       "      <td>L</td>\n",
       "      <td>L</td>\n",
       "      <td>2022-04-12</td>\n",
       "    </tr>\n",
       "    <tr>\n",
       "      <th>12</th>\n",
       "      <td>18</td>\n",
       "      <td>28</td>\n",
       "      <td>M</td>\n",
       "      <td>M</td>\n",
       "      <td>2022-04-12</td>\n",
       "    </tr>\n",
       "    <tr>\n",
       "      <th>13</th>\n",
       "      <td>18</td>\n",
       "      <td>28</td>\n",
       "      <td>N</td>\n",
       "      <td>N</td>\n",
       "      <td>2022-04-12</td>\n",
       "    </tr>\n",
       "    <tr>\n",
       "      <th>14</th>\n",
       "      <td>19</td>\n",
       "      <td>O</td>\n",
       "      <td>O</td>\n",
       "      <td>O</td>\n",
       "      <td>2022-04-12</td>\n",
       "    </tr>\n",
       "  </tbody>\n",
       "</table>\n",
       "</div>"
      ],
      "text/plain": [
       "    value1 value2 value3 value4     value5\n",
       "0        1     20      A      A 2022-04-12\n",
       "1        1     20      B      B 2022-04-12\n",
       "2        6     21      C      C 2022-04-12\n",
       "3       13     22      D      D 2022-04-12\n",
       "4       13     23      E      E 2022-04-12\n",
       "5       14     24      F      F 2022-04-12\n",
       "6       14     24      G      G 2022-04-12\n",
       "7       14     24      H      H 2022-04-12\n",
       "8       15     25      I      I 2022-04-12\n",
       "9       15     25      J      J 2022-04-12\n",
       "10      16     26      K      K 2022-04-12\n",
       "11      18     28      L      L 2022-04-12\n",
       "12      18     28      M      M 2022-04-12\n",
       "13      18     28      N      N 2022-04-12\n",
       "14      19      O      O      O 2022-04-12"
      ]
     },
     "execution_count": 2,
     "metadata": {},
     "output_type": "execute_result"
    }
   ],
   "source": [
    "# Create some data for testing\n",
    "\n",
    "df = pd.DataFrame({'value1':[1,1,6,13,13,14,14,14,15,15,16,18,18,18,19],\n",
    "                   'value2':[20,20,21,22,23,24,24,24,25,25,26,28,28,28,'O'],\n",
    "                   'value3':['A','B','C','D','E','F','G','H','I','J','K','L','M','N','O'],\n",
    "                   'value4':['A','B','C','D','E','F','G','H','I','J','K','L','M','N','O'],\n",
    "                   'value5':['2022-04-12','2022-04-12','2022-04-12','2022-04-12','2022-04-12',\n",
    "                             '2022-04-12','2022-04-12','2022-04-12','2022-04-12','2022-04-12',\n",
    "                             '2022-04-12','2022-04-12','2022-04-12','2022-04-12','2022-04-12'],\n",
    "                  })\n",
    "df['value5'] = pd.to_datetime(df['value5'] )\n",
    "df"
   ]
  },
  {
   "cell_type": "markdown",
   "id": "052222bd",
   "metadata": {},
   "source": [
    "### Identify Mixed Column Types"
   ]
  },
  {
   "cell_type": "markdown",
   "id": "f34a7875",
   "metadata": {},
   "source": [
    "A useful check to see if any columns in your dataframe have more than one data type."
   ]
  },
  {
   "cell_type": "code",
   "execution_count": 3,
   "id": "05bff18a",
   "metadata": {},
   "outputs": [
    {
     "name": "stdout",
     "output_type": "stream",
     "text": [
      "True\n",
      "{'value2': [<class 'int'>, <class 'str'>]}\n"
     ]
    }
   ],
   "source": [
    "has_multi_type_columns = identify_mixed_cols.has_multi_types_within_col(df)\n",
    "multi_types = identify_mixed_cols.get_column_data_types(df)\n",
    " \n",
    "print(has_multi_type_columns)\n",
    "print(multi_types)"
   ]
  },
  {
   "cell_type": "markdown",
   "id": "a3ee9266",
   "metadata": {},
   "source": [
    "<hr>"
   ]
  },
  {
   "cell_type": "markdown",
   "id": "406cd57e",
   "metadata": {},
   "source": [
    "### Identify and Drop Outliers"
   ]
  },
  {
   "cell_type": "markdown",
   "id": "1c5d9478",
   "metadata": {},
   "source": [
    "Uses the Interquartile Range (IQR) method to identify and drop outliers."
   ]
  },
  {
   "cell_type": "code",
   "execution_count": 4,
   "id": "34ed06a0",
   "metadata": {},
   "outputs": [
    {
     "name": "stdout",
     "output_type": "stream",
     "text": [
      "No columns specified. Attempting to remove outliers from all columns.\n",
      "Not processing 3 non-numeric columns: ['value2', 'value3', 'value4'].\n",
      "Original Dataframe Shape:  (15, 5)\n",
      "New Dataframe Shape:  (13, 5)\n"
     ]
    }
   ],
   "source": [
    "no_outliers = identify_drop_outliers.drop_outliers(df=df, verbose=False)"
   ]
  },
  {
   "cell_type": "code",
   "execution_count": null,
   "id": "47e145a1",
   "metadata": {},
   "outputs": [],
   "source": []
  }
 ],
 "metadata": {
  "kernelspec": {
   "display_name": "Python 3 (ipykernel)",
   "language": "python",
   "name": "python3"
  },
  "language_info": {
   "codemirror_mode": {
    "name": "ipython",
    "version": 3
   },
   "file_extension": ".py",
   "mimetype": "text/x-python",
   "name": "python",
   "nbconvert_exporter": "python",
   "pygments_lexer": "ipython3",
   "version": "3.8.10"
  }
 },
 "nbformat": 4,
 "nbformat_minor": 5
}
