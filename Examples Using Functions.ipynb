{
 "cells": [
  {
   "cell_type": "markdown",
   "id": "2c1ee1bc",
   "metadata": {},
   "source": [
    "# Data Cleaning Functions"
   ]
  },
  {
   "cell_type": "code",
   "execution_count": 1,
   "id": "9eadc647",
   "metadata": {},
   "outputs": [
    {
     "ename": "SyntaxError",
     "evalue": "invalid syntax (Temp/ipykernel_20568/6033991.py, line 9)",
     "output_type": "error",
     "traceback": [
      "\u001b[1;36m  File \u001b[1;32m\"C:\\Users\\JENNIF~1\\AppData\\Local\\Temp/ipykernel_20568/6033991.py\"\u001b[1;36m, line \u001b[1;32m9\u001b[0m\n\u001b[1;33m    import remove_whitespace from remove_whitespace\u001b[0m\n\u001b[1;37m                             ^\u001b[0m\n\u001b[1;31mSyntaxError\u001b[0m\u001b[1;31m:\u001b[0m invalid syntax\n"
     ]
    }
   ],
   "source": [
    "# Library Imports\n",
    "import pandas as pd\n",
    "import numpy as np\n",
    "\n",
    "\n",
    "# Function Imports\n",
    "import identify_mixed_column_types as identify_mixed_cols\n",
    "import identify_drop_outliers\n",
    "import whitespace_man from remove_whitespace"
   ]
  },
  {
   "cell_type": "code",
   "execution_count": null,
   "id": "a5aeaf25",
   "metadata": {},
   "outputs": [],
   "source": [
    "# Create some data for testing\n",
    "\n",
    "df = pd.DataFrame({'value1':[1,1,6,13,13,14,14,14,15,15,16,18,18,18,19],\n",
    "                   'value2':[20,20,21,22,23,24,24,24,25,25,26,28,28,28,'O'],\n",
    "                   'value3':['A','B','C','D','E','F','G','H','I','J','K','L','M','N','O'],\n",
    "                   'value4':['A','B','C','D','E','F','G','H','I','J','K','L','M','N','O'],\n",
    "                   'value5':['2022-04-12','2022-04-12','2022-04-12','2022-04-12','2022-04-12',\n",
    "                             '2022-04-12','2022-04-12','2022-04-12','2022-04-12','2022-04-12',\n",
    "                             '2022-04-12','2022-04-12','2022-04-12','2022-04-12','2022-04-12'],\n",
    "                   'value6':['A1','B2','C3','D4',' E5','F6','G7','H8','I9','J10 ','K11','L12','M13','N14',' O15 '],\n",
    "                  })\n",
    "df['value5'] = pd.to_datetime(df['value5'] )\n",
    "df"
   ]
  },
  {
   "cell_type": "markdown",
   "id": "052222bd",
   "metadata": {},
   "source": [
    "### Identify Mixed Column Types"
   ]
  },
  {
   "cell_type": "markdown",
   "id": "f34a7875",
   "metadata": {},
   "source": [
    "A useful check to see if any columns in your dataframe have more than one data type."
   ]
  },
  {
   "cell_type": "code",
   "execution_count": null,
   "id": "05bff18a",
   "metadata": {},
   "outputs": [],
   "source": [
    "has_multi_type_columns = identify_mixed_cols.has_multi_types_within_col(df)\n",
    "multi_types = identify_mixed_cols.get_column_data_types(df)\n",
    " \n",
    "print(has_multi_type_columns)\n",
    "print(multi_types)"
   ]
  },
  {
   "cell_type": "markdown",
   "id": "a3ee9266",
   "metadata": {},
   "source": [
    "<hr>"
   ]
  },
  {
   "cell_type": "markdown",
   "id": "406cd57e",
   "metadata": {},
   "source": [
    "### Identify and Drop Outliers"
   ]
  },
  {
   "cell_type": "markdown",
   "id": "1c5d9478",
   "metadata": {},
   "source": [
    "Uses the Interquartile Range (IQR) method to identify and drop outliers."
   ]
  },
  {
   "cell_type": "code",
   "execution_count": null,
   "id": "34ed06a0",
   "metadata": {},
   "outputs": [],
   "source": [
    "no_outliers = identify_drop_outliers.drop_outliers(df=df, verbose=False)"
   ]
  },
  {
   "cell_type": "markdown",
   "id": "acf7626d",
   "metadata": {},
   "source": [
    "<hr>"
   ]
  },
  {
   "cell_type": "markdown",
   "id": "92e250f2",
   "metadata": {},
   "source": [
    "### Remove Leading and Trailing Whitespace"
   ]
  },
  {
   "cell_type": "code",
   "execution_count": null,
   "id": "55d05eb0",
   "metadata": {},
   "outputs": [],
   "source": [
    "df1 = remove_whitespace(df)\n",
    "df1"
   ]
  },
  {
   "cell_type": "code",
   "execution_count": null,
   "id": "1a870dc4",
   "metadata": {},
   "outputs": [],
   "source": []
  }
 ],
 "metadata": {
  "kernelspec": {
   "display_name": "Python 3 (ipykernel)",
   "language": "python",
   "name": "python3"
  },
  "language_info": {
   "codemirror_mode": {
    "name": "ipython",
    "version": 3
   },
   "file_extension": ".py",
   "mimetype": "text/x-python",
   "name": "python",
   "nbconvert_exporter": "python",
   "pygments_lexer": "ipython3",
   "version": "3.8.10"
  }
 },
 "nbformat": 4,
 "nbformat_minor": 5
}
